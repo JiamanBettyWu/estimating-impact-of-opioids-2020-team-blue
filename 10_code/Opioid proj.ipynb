{
 "cells": [
  {
   "cell_type": "markdown",
   "metadata": {},
   "source": [
    "#### Import data"
   ]
  },
  {
   "cell_type": "code",
   "execution_count": null,
   "metadata": {},
   "outputs": [],
   "source": [
    "import pandas as pd\n",
    "import numpy as np"
   ]
  },
  {
   "cell_type": "code",
   "execution_count": null,
   "metadata": {},
   "outputs": [],
   "source": [
    "### Try open file through url, failed\n",
    "\n",
    "#import pandas as pd\n",
    "#import io\n",
    "#import requests\n",
    "#url=\"https://d2ty8gaf6rmowa.cloudfront.net/dea-pain-pill-database/bulk/arcos_all_washpost.tsv.gz\"\n",
    "#s=requests.get(url).content\n",
    "#c=pd.read_csv(io.StringIO(s.decode('utf-8')),compression='gzip',nrows=10,sep='\\t')\n",
    "\n",
    "#import pandas as pd\n",
    "#url=\"https://d2ty8gaf6rmowa.cloudfront.net/dea-pain-pill-database/bulk/arcos_all_washpost.tsv.gz\"\n",
    "#c=pd.read_csv(url,compression='gzip',nrows=10, sep='\\t')"
   ]
  },
  {
   "cell_type": "code",
   "execution_count": null,
   "metadata": {},
   "outputs": [],
   "source": [
    "# Specify the state to use, excluding Alaska\n",
    "state_list = ['AL','AZ','AR','CA','CO','CT','DE','DC','FL','HI','GA','ID','IL','IN','IA','KS','KY','LA','ME','MD','MA','MI',\n",
    "             'MN','MS','MO','MT','NE','NV','NH','NJ','NM','NY','NV','ND','OH','OK','OR','PA','RI','SC','SD','TN','TX','UT',\n",
    "              'VT','VA','WA','WV','WI','WY']"
   ]
  },
  {
   "cell_type": "code",
   "execution_count": null,
   "metadata": {},
   "outputs": [],
   "source": [
    "# We will need to split data into 3 subsets - based on geographical location?"
   ]
  },
  {
   "cell_type": "code",
   "execution_count": null,
   "metadata": {},
   "outputs": [],
   "source": [
    "# Read in data, set chuncksize\n",
    "opioid = pd.read_csv(\"dataset/arcos_all_washpost.tsv.gz\", compression = 'gzip',sep = '\\t',\n",
    "                     chunksize = 1000000, low_memory = False,\n",
    "                    usecols=['BUYER_STATE', 'BUYER_COUNTY','TRANSACTION_DATE','CALC_BASE_WT_IN_GM','MME_Conversion_Factor'])"
   ]
  },
  {
   "cell_type": "code",
   "execution_count": null,
   "metadata": {
    "scrolled": true
   },
   "outputs": [],
   "source": [
    "# Nathan's method\n",
    "# FL_data = pd.concat([chunk[chunk['BUYER_STATE'] == \"FL\"] for chunk in opioid])"
   ]
  },
  {
   "cell_type": "code",
   "execution_count": null,
   "metadata": {},
   "outputs": [],
   "source": [
    "# Transform `TRANSACTION_DATE` into datetime type \n",
    "opioid[\"TRANSACTION_DATE\"] = pd.to_datetime(opioid[\"TRANSACTION_DATE\"], format = \"%m%d%Y\")"
   ]
  },
  {
   "cell_type": "code",
   "execution_count": null,
   "metadata": {},
   "outputs": [],
   "source": [
    "df = pd.DataFrame()\n",
    "\n",
    "for i in opioid:\n",
    "    #i[\"TRANSACTION_DATE\"] = pd.to_datetime(i[\"TRANSACTION_DATE\"], format = \"%m%d%Y\")\n",
    "    df = df.append(i.loc[i['BUYER_STATE'].isin(state_list)])\n",
    "    "
   ]
  },
  {
   "cell_type": "code",
   "execution_count": null,
   "metadata": {},
   "outputs": [],
   "source": [
    "df.head()"
   ]
  },
  {
   "cell_type": "code",
   "execution_count": null,
   "metadata": {},
   "outputs": [],
   "source": [
    "# Check the cols we will need\n",
    "# BUYER_DEA_NO, BUYER_STATE, BUYER_COUNTY(only name, to_lower)\n",
    "# TRANSACTION_DATE(2 col, month,year)\n",
    "# groupby county, merge state & county"
   ]
  }
 ],
 "metadata": {
  "kernelspec": {
   "display_name": "Python 3",
   "language": "python",
   "name": "python3"
  },
  "language_info": {
   "codemirror_mode": {
    "name": "ipython",
    "version": 3
   },
   "file_extension": ".py",
   "mimetype": "text/x-python",
   "name": "python",
   "nbconvert_exporter": "python",
   "pygments_lexer": "ipython3",
   "version": "3.8.5"
  }
 },
 "nbformat": 4,
 "nbformat_minor": 4
}
