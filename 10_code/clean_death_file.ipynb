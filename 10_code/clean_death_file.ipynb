{
 "cells": [
  {
   "cell_type": "code",
   "execution_count": 1,
   "metadata": {},
   "outputs": [],
   "source": [
    "import pandas as pd\n",
    "import os"
   ]
  },
  {
   "cell_type": "code",
   "execution_count": 2,
   "metadata": {},
   "outputs": [],
   "source": [
    "death_files = os.listdir(\"../00_source/US_VitalStatistics\")"
   ]
  },
  {
   "cell_type": "code",
   "execution_count": 3,
   "metadata": {},
   "outputs": [],
   "source": [
    "path = \"../00_source/US_VitalStatistics/\" \n",
    "df_list = []\n",
    "for f in death_files:\n",
    "    df = pd.read_csv(path + f,\n",
    "                 sep = \"\\t\").drop(['Notes'], axis = 1)\n",
    "    df.dropna(axis = 0, inplace = True)\n",
    "    df[[\"county\", \"state\"]] = df.County.str.split(\",\", expand = True)\n",
    "    df[\"county\"] = df.county.str.strip(\"County\").str.lower()\n",
    "    df[\"Year\"] = pd.to_datetime(df[\"Year\"], format = \"%Y\").dt.year\n",
    "    df = df.loc[df[\"Drug/Alcohol Induced Cause\"] == \"Drug poisonings (overdose) Unintentional (X40-X44)\"]\n",
    "    df_list.append(df)\n",
    "    df = pd.concat(df_list, ignore_index = True)\n",
    "    "
   ]
  },
  {
   "cell_type": "code",
   "execution_count": 4,
   "metadata": {},
   "outputs": [],
   "source": [
    "df = df.drop([\"County\", \"County Code\",  \"Year Code\", \"Drug/Alcohol Induced Cause\"], axis = \"columns\")"
   ]
  },
  {
   "cell_type": "code",
   "execution_count": 5,
   "metadata": {},
   "outputs": [],
   "source": [
    "df = df.sort_values(by = \"Year\")"
   ]
  },
  {
   "cell_type": "code",
   "execution_count": 6,
   "metadata": {},
   "outputs": [],
   "source": [
    "# df.to_csv(\"death_rate.csv\", index = False)"
   ]
  }
 ],
 "metadata": {
  "kernelspec": {
   "display_name": "Python 3",
   "language": "python",
   "name": "python3"
  },
  "language_info": {
   "codemirror_mode": {
    "name": "ipython",
    "version": 3
   },
   "file_extension": ".py",
   "mimetype": "text/x-python",
   "name": "python",
   "nbconvert_exporter": "python",
   "pygments_lexer": "ipython3",
   "version": "3.7.6"
  }
 },
 "nbformat": 4,
 "nbformat_minor": 4
}
